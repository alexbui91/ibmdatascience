{
 "cells": [
  {
   "cell_type": "markdown",
   "id": "58bcbeef",
   "metadata": {},
   "source": [
    "# My Jupyter Notebook on IBM Watson Studio"
   ]
  },
  {
   "cell_type": "markdown",
   "id": "388c63d3",
   "metadata": {},
   "source": [
    "## BUI TIEN CUONG\n",
    "Ph.D. Student at Seoul National University"
   ]
  },
  {
   "cell_type": "markdown",
   "id": "4e6fb8e1",
   "metadata": {},
   "source": [
    "***As data is everywhere, data science is very important to extract insights from data and turn them into interesting stories. I'm interested in the stories behind the data.***"
   ]
  },
  {
   "cell_type": "markdown",
   "id": "8c32f189",
   "metadata": {},
   "source": [
    "### I will use Python.\n"
   ]
  },
  {
   "cell_type": "code",
   "execution_count": 3,
   "id": "15918084",
   "metadata": {},
   "outputs": [
    {
     "data": {
      "text/plain": [
       "3"
      ]
     },
     "execution_count": 3,
     "metadata": {},
     "output_type": "execute_result"
    }
   ],
   "source": [
    "def add(a, b):\n",
    "    return a + b\n",
    "\n",
    "add(1, 2)"
   ]
  },
  {
   "cell_type": "markdown",
   "id": "016dced3",
   "metadata": {},
   "source": [
    "**horizontal rule** \n",
    "***\n",
    "\n",
    "---\n",
    "\n",
    "_________________\n",
    "\n",
    "**bulleted list**\n",
    "- Item 1\n",
    "- Item 2\n",
    "- Item 3\n",
    "\n",
    "\n",
    "\n",
    "**numbered list**\n",
    "1. Item 1\n",
    "2. Item 2\n",
    "3. Item 3\n",
    "\n",
    "\n",
    "**tables**\n",
    "\n",
    "| Col 1 | Col 2  | col 3 |\n",
    "|-------|--------|-------|\n",
    "| a     | b      | c     |\n",
    "\n",
    "\n",
    "**hyperlinks**\n",
    "Here is my website, [link](https://alexbui91.github.io).\n",
    "\n",
    "**images**\n",
    "![](https://alexbui91.github.io/images/profile.png)\n",
    "\n",
    "\n",
    "**code/syntax highlighting**\n",
    "```\n",
    "dev function():\n",
    "   return something\n",
    "```\n",
    "\n",
    "**blocked quotes**\n",
    "\n",
    "> Good things come to those who hustle\n",
    "\n",
    "**strikethrough**\n",
    "\n",
    "~~This was mistaken text~~"
   ]
  },
  {
   "cell_type": "code",
   "execution_count": null,
   "id": "f05938d9",
   "metadata": {},
   "outputs": [],
   "source": []
  }
 ],
 "metadata": {
  "kernelspec": {
   "display_name": "Python 3",
   "language": "python",
   "name": "python3"
  },
  "language_info": {
   "codemirror_mode": {
    "name": "ipython",
    "version": 3
   },
   "file_extension": ".py",
   "mimetype": "text/x-python",
   "name": "python",
   "nbconvert_exporter": "python",
   "pygments_lexer": "ipython3",
   "version": "3.8.11"
  }
 },
 "nbformat": 4,
 "nbformat_minor": 5
}
