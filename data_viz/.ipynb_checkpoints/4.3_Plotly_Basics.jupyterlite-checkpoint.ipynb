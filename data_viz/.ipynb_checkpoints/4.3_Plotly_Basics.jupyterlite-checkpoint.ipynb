{
 "cells": [
  {
   "cell_type": "markdown",
   "id": "e9320859-6f46-4bfd-97ed-324dfd4d3ecf",
   "metadata": {},
   "outputs": [],
   "source": [
    "<center>\n",
    "    <img src=\"https://cf-courses-data.s3.us.cloud-object-storage.appdomain.cloud/IBMDeveloperSkillsNetwork-DV0101EN-SkillsNetwork/labs/Module%204/logo.png\" width=\"300\" alt=\"cognitiveclass.ai logo\">\n",
    "</center>\n"
   ]
  },
  {
   "cell_type": "markdown",
   "id": "01f08dc3-88f4-4516-8cf9-d28f288f3547",
   "metadata": {},
   "outputs": [],
   "source": [
    "# Basic Plotly Charts\n",
    "\n",
    "Estimated time needed: 30 minutes\n"
   ]
  },
  {
   "cell_type": "markdown",
   "id": "75c15bcd-0f49-41dc-b1e0-ca3ffb60f5f0",
   "metadata": {},
   "outputs": [],
   "source": [
    "## Objectives\n",
    "\n",
    "In this lab, you will learn about creating plotly charts using plotly.graph_objects and plotly.express.\n",
    "\n",
    "Learn more about:\n",
    "\n",
    "*   [Plotly python](https://plotly.com/python/?utm_medium=Exinfluencer&utm_source=Exinfluencer&utm_content=000026UJ&utm_term=10006555&utm_id=NA-SkillsNetwork-Channel-SkillsNetworkCoursesIBMDeveloperSkillsNetworkDV0101ENSkillsNetwork20297740-2021-01-01)\n",
    "*   [Plotly Graph Objects](https://plotly.com/python/graph-objects/?utm_medium=Exinfluencer&utm_source=Exinfluencer&utm_content=000026UJ&utm_term=10006555&utm_id=NA-SkillsNetwork-Channel-SkillsNetworkCoursesIBMDeveloperSkillsNetworkDV0101ENSkillsNetwork20297740-2021-01-01)\n",
    "*   [Plotly Express](https://plotly.com/python/plotly-express/?utm_medium=Exinfluencer&utm_source=Exinfluencer&utm_content=000026UJ&utm_term=10006555&utm_id=NA-SkillsNetwork-Channel-SkillsNetworkCoursesIBMDeveloperSkillsNetworkDV0101ENSkillsNetwork20297740-2021-01-01)\n",
    "*   Handling data using [Pandas](https://pandas.pydata.org/?utm_medium=Exinfluencer&utm_source=Exinfluencer&utm_content=000026UJ&utm_term=10006555&utm_id=NA-SkillsNetwork-Channel-SkillsNetworkCoursesIBMDeveloperSkillsNetworkDV0101ENSkillsNetwork20297740-2021-01-01)\n",
    "\n",
    "We will be using the [airline dataset](https://developer.ibm.com/exchanges/data/all/airline/?utm_medium=Exinfluencer&utm_source=Exinfluencer&utm_content=000026UJ&utm_term=10006555&utm_id=NA-SkillsNetwork-Channel-SkillsNetworkCoursesIBMDeveloperSkillsNetworkDV0101ENSkillsNetwork20297740-2021-01-01) from [Data Asset eXchange](https://developer.ibm.com/exchanges/data/?utm_medium=Exinfluencer&utm_source=Exinfluencer&utm_content=000026UJ&utm_term=10006555&utm_id=NA-SkillsNetwork-Channel-SkillsNetworkCoursesIBMDeveloperSkillsNetworkDV0101ENSkillsNetwork970-2022-01-01).\n",
    "\n",
    "#### Airline Reporting Carrier On-Time Performance Dataset\n",
    "\n",
    "The Reporting Carrier On-Time Performance Dataset contains information on approximately 200 million domestic US flights reported to the United States Bureau of Transportation Statistics. The dataset contains basic information about each flight (such as date, time, departure airport, arrival airport) and, if applicable, the amount of time the flight was delayed and information about the reason for the delay. This dataset can be used to predict the likelihood of a flight arriving on time.\n",
    "\n",
    "Preview data, dataset metadata, and data glossary [here.](https://dax-cdn.cdn.appdomain.cloud/dax-airline/1.0.1/data-preview/index.html)\n"
   ]
  },
  {
   "cell_type": "code",
   "id": "8380d78e-55aa-45e4-b6c9-c5675a8461bc",
   "metadata": {},
   "outputs": [],
   "source": [
    "import piplite\n\nawait piplite.install(['nbformat', 'plotly'])"
   ]
  },
  {
   "cell_type": "code",
   "id": "aeea0f78-1718-4f15-94a5-31287555fb8c",
   "metadata": {},
   "outputs": [],
   "source": [
    "# Import required libraries\nimport pandas as pd\nimport plotly.express as px\nimport plotly.graph_objects as go"
   ]
  },
  {
   "cell_type": "markdown",
   "id": "0f540350-3562-449a-955d-b311c6e17cec",
   "metadata": {},
   "outputs": [],
   "source": [
    "# Read Data\n"
   ]
  },
  {
   "cell_type": "code",
   "id": "87c039e3-82e2-4511-ae8c-8d32f66f0680",
   "metadata": {},
   "outputs": [],
   "source": [
    "# Read the airline data into pandas dataframe\nfrom js import fetch\nimport io\n\nURL = 'https://cf-courses-data.s3.us.cloud-object-storage.appdomain.cloud/IBMDeveloperSkillsNetwork-DV0101EN-SkillsNetwork/Data%20Files/airline_data.csv'\nresp = await fetch(URL)\ntext = io.BytesIO((await resp.arrayBuffer()).to_py())\n\nairline_data =  pd.read_csv(text,\n                            encoding = \"ISO-8859-1\",\n                            dtype={'Div1Airport': str, 'Div1TailNum': str, \n                                   'Div2Airport': str, 'Div2TailNum': str})\n\nprint('Data downloaded and read into a dataframe!')"
   ]
  },
  {
   "cell_type": "code",
   "id": "c138ef5c-44ee-4bdf-85ac-7562b2c1f974",
   "metadata": {},
   "outputs": [],
   "source": [
    "# Preview the first 5 lines of the loaded data \nairline_data.head()"
   ]
  },
  {
   "cell_type": "code",
   "id": "2398b0f3-1c59-4fbe-a42b-5d9f965b86e4",
   "metadata": {},
   "outputs": [],
   "source": [
    "# Shape of the data\nairline_data.shape"
   ]
  },
  {
   "cell_type": "code",
   "id": "4661e4f6-4456-41ab-b7a3-74f50e66c375",
   "metadata": {},
   "outputs": [],
   "source": [
    "# Randomly sample 500 data points. Setting the random state to be 42 so that we get same result.\ndata = airline_data.sample(n=500, random_state=42)"
   ]
  },
  {
   "cell_type": "code",
   "id": "8e3c6f73-ebd3-423f-942a-b758f6bfdaa6",
   "metadata": {},
   "outputs": [],
   "source": [
    "# Get the shape of the trimmed data\ndata.shape"
   ]
  },
  {
   "cell_type": "markdown",
   "id": "d9ac85f1-d552-4fff-8212-31689bad102a",
   "metadata": {},
   "outputs": [],
   "source": [
    "### Lab structure\n",
    "\n",
    "#### plotly.graph_objects\n",
    "\n",
    "1.  Review scatter plot creation\n",
    "\n",
    "    Theme: How departure time changes with respect to airport distance\n",
    "\n",
    "2.  **To do** - Create line plot\n",
    "\n",
    "    Theme: Extract average monthly delay time and see how it changes over the year\n",
    "\n",
    "#### plotly.express\n",
    "\n",
    "1.  Review bar chart creation\n",
    "\n",
    "    Theme: Extract number of flights from a specific airline that goes to a destination\n",
    "\n",
    "2.  **To do** - Create bubble chart\n",
    "\n",
    "    Theme: Get number of flights as per reporting airline\n",
    "\n",
    "3.  **To do** - Create histogram\n",
    "\n",
    "    Theme: Get distribution of arrival delay\n",
    "\n",
    "4.  Review pie chart\n",
    "\n",
    "    Theme: Proportion of distance group by month (month indicated by numbers)\n",
    "\n",
    "5.  **To do** - Create sunburst chart\n",
    "\n",
    "    Theme: Hierarchical view in othe order of month and destination state holding value of number of flights\n"
   ]
  },
  {
   "cell_type": "markdown",
   "id": "2ea344ec-1101-40db-90fb-bbff0c17e4bd",
   "metadata": {},
   "outputs": [],
   "source": [
    "# plotly.graph_objects¶\n"
   ]
  },
  {
   "cell_type": "markdown",
   "id": "91b38691-3aae-410b-ac3d-bb4dc073352e",
   "metadata": {},
   "outputs": [],
   "source": [
    "## 1. Scatter Plot\n"
   ]
  },
  {
   "cell_type": "markdown",
   "id": "61fa4cf5-fae3-4d25-ac31-b517645debbe",
   "metadata": {},
   "outputs": [],
   "source": [
    "Learn more about usage of scatter plot [here](https://plotly.com/python/line-and-scatter/?utm_medium=Exinfluencer&utm_source=Exinfluencer&utm_content=000026UJ&utm_term=10006555&utm_id=NA-SkillsNetwork-Channel-SkillsNetworkCoursesIBMDeveloperSkillsNetworkDV0101ENSkillsNetwork20297740-2021-01-01)\n",
    "\n",
    "#### Idea: How departure time changes with respect to airport distance\n"
   ]
  },
  {
   "cell_type": "code",
   "id": "4fbce0a6-548a-42c6-90d3-25cd12b047f8",
   "metadata": {},
   "outputs": [],
   "source": [
    "# First we create a figure using go.Figure and adding trace to it through go.scatter\nfig = go.Figure(data=go.Scatter(x=data['Distance'], y=data['DepTime'], mode='markers', marker=dict(color='red')))\n# Updating layout through `update_layout`. Here we are adding title to the plot and providing title to x and y axis.\nfig.update_layout(title='Distance vs Departure Time', xaxis_title='Distance', yaxis_title='DepTime')\n# Display the figure\nfig.show()"
   ]
  },
  {
   "cell_type": "markdown",
   "id": "57844533-2292-4e51-a82a-51eae4fdb321",
   "metadata": {},
   "outputs": [],
   "source": [
    "## 2. Line Plot\n"
   ]
  },
  {
   "cell_type": "markdown",
   "id": "8085db10-07d4-4baa-afed-c87948dbec4c",
   "metadata": {},
   "outputs": [],
   "source": [
    "Learn more about line plot [here](https://plotly.com/python/line-charts/?utm_medium=Exinfluencer&utm_source=Exinfluencer&utm_content=000026UJ&utm_term=10006555&utm_id=NA-SkillsNetwork-Channel-SkillsNetworkCoursesIBMDeveloperSkillsNetworkDV0101ENSkillsNetwork20297740-2021-01-01)\n",
    "\n",
    "#### Idea: Extract average monthly arrival delay time and see how it changes over the year.\n"
   ]
  },
  {
   "cell_type": "code",
   "id": "4d8a0382-5a9b-4f4e-842f-8408c7d08fec",
   "metadata": {},
   "outputs": [],
   "source": [
    "# Group the data by Month and compute average over arrival delay time.\nline_data = data.groupby('Month')['ArrDelay'].mean().reset_index()"
   ]
  },
  {
   "cell_type": "code",
   "id": "7bef0c0d-766d-4942-96a8-6c73baede656",
   "metadata": {},
   "outputs": [],
   "source": [
    "# Display the data\nline_data"
   ]
  },
  {
   "cell_type": "markdown",
   "id": "4c952ab0-6a1e-4fa2-b2b4-fe8c35d4abe4",
   "metadata": {},
   "outputs": [],
   "source": [
    "#### To do:\n",
    "\n",
    "*   Create a line plot with x-axis being the month and y-axis being computed average delay time. Update plot title,\\\n",
    "    xaxis, and yaxis title.\n",
    "\n",
    "*   Hint: Scatter and line plot vary by updating mode parameter.\n"
   ]
  },
  {
   "cell_type": "code",
   "id": "e1c878af-e216-4aae-865d-f471f916dcfe",
   "metadata": {},
   "outputs": [],
   "source": [
    "# Create line plot here\n"
   ]
  },
  {
   "cell_type": "markdown",
   "id": "bfed9115-0810-487a-a00c-8df97b95f859",
   "metadata": {},
   "outputs": [],
   "source": [
    "Double-click **here** for the solution.\n",
    "\n",
    "<!-- The answer is below:\n",
    "\n",
    "fig = go.Figure(data=go.Scatter(x=line_data['Month'], y=line_data['ArrDelay'], mode='lines', marker=dict(color='green')))\n",
    "fig.update_layout(title='Month vs Average Flight Delay Time', xaxis_title='Month', yaxis_title='ArrDelay')\n",
    "fig.show()\n",
    "\n",
    "-->\n"
   ]
  },
  {
   "cell_type": "markdown",
   "id": "aead4e5d-25bf-4a29-a4c0-60e8ace19752",
   "metadata": {},
   "outputs": [],
   "source": [
    "# plotly.express¶\n"
   ]
  },
  {
   "cell_type": "markdown",
   "id": "108fa4c0-520e-48de-b398-4266c583e968",
   "metadata": {},
   "outputs": [],
   "source": [
    "## 1. Bar Chart\n"
   ]
  },
  {
   "cell_type": "markdown",
   "id": "85c8fd32-4654-4ca5-9b7f-6456247947c0",
   "metadata": {},
   "outputs": [],
   "source": [
    "Learn more about bar chart [here](https://plotly.com/python/bar-charts/?utm_medium=Exinfluencer&utm_source=Exinfluencer&utm_content=000026UJ&utm_term=10006555&utm_id=NA-SkillsNetwork-Channel-SkillsNetworkCoursesIBMDeveloperSkillsNetworkDV0101ENSkillsNetwork20297740-2021-01-01)\n",
    "\n",
    "#### Idea: Extract number of flights from a specific airline that goes to a destination\n"
   ]
  },
  {
   "cell_type": "code",
   "id": "cd808974-ae17-4b3a-bd0d-bcaf76da2adc",
   "metadata": {},
   "outputs": [],
   "source": [
    "# Group the data by destination state and reporting airline. Compute total number of flights in each combination\nbar_data = data.groupby('DestState')['Flights'].sum().reset_index()"
   ]
  },
  {
   "cell_type": "code",
   "id": "1e401e3a-6473-41a5-abb6-670be1d295b9",
   "metadata": {},
   "outputs": [],
   "source": [
    "# Display the data\nbar_data"
   ]
  },
  {
   "cell_type": "code",
   "id": "ca575f3c-d963-4cce-b9f9-31a195733795",
   "metadata": {},
   "outputs": [],
   "source": [
    "# Use plotly express bar chart function px.bar. Provide input data, x and y axis variable, and title of the chart.\n# This will give total number of flights to the destination state.\nfig = px.bar(bar_data, x=\"DestState\", y=\"Flights\", title='Total number of flights to the destination state split by reporting airline') \nfig.show()"
   ]
  },
  {
   "cell_type": "markdown",
   "id": "f0d3880d-95ec-4ee3-b75a-9a6447e44e14",
   "metadata": {},
   "outputs": [],
   "source": [
    "## 2. Bubble Chart\n"
   ]
  },
  {
   "cell_type": "markdown",
   "id": "2ada15aa-d940-4967-b198-dbd8c88c2df6",
   "metadata": {},
   "outputs": [],
   "source": [
    "Learn more about bubble chart [here](https://plotly.com/python/bubble-charts/?utm_medium=Exinfluencer&utm_source=Exinfluencer&utm_content=000026UJ&utm_term=10006555&utm_id=NA-SkillsNetwork-Channel-SkillsNetworkCoursesIBMDeveloperSkillsNetworkDV0101ENSkillsNetwork20297740-2021-01-01)\n",
    "\n",
    "#### Idea: Get number of flights as per reporting airline\n"
   ]
  },
  {
   "cell_type": "code",
   "id": "3fdd4cbe-fcd1-4875-96f6-8fef3b432ab4",
   "metadata": {},
   "outputs": [],
   "source": [
    "# Group the data by reporting airline and get number of flights\nbub_data = data.groupby('Reporting_Airline')['Flights'].sum().reset_index()"
   ]
  },
  {
   "cell_type": "code",
   "id": "ce324f67-aa32-4100-88de-910d01f8c2cc",
   "metadata": {},
   "outputs": [],
   "source": [
    "bub_data"
   ]
  },
  {
   "cell_type": "markdown",
   "id": "5b86301a-a5fd-404e-b673-d3841e618be6",
   "metadata": {},
   "outputs": [],
   "source": [
    "**To do**\n",
    "\n",
    "*   Create a bubble chart using the `bub_data` with x-axis being reporting airline and y-axis being flights.\n",
    "*   Provide title to the chart\n",
    "*   Update size of the bubble based on the number of flights. Use `size` parameter.\n",
    "*   Update name of the hover tooltip to `reporting_airline` using `hover_name` parameter.\n"
   ]
  },
  {
   "cell_type": "code",
   "id": "6aa362c0-8210-44d7-8149-0183684ca8d1",
   "metadata": {},
   "outputs": [],
   "source": [
    "# Create bubble chart here\n"
   ]
  },
  {
   "cell_type": "markdown",
   "id": "1ff723f1-32ee-4020-807b-5de4c34b7e1a",
   "metadata": {},
   "outputs": [],
   "source": [
    "Double-click **here** for the solution.\n",
    "\n",
    "<!-- The answer is below:\n",
    "\n",
    "    \n",
    "fig = px.scatter(bub_data, x=\"Reporting_Airline\", y=\"Flights\", size=\"Flights\",\n",
    "                 hover_name=\"Reporting_Airline\", title='Reporting Airline vs Number of Flights', size_max=60)\n",
    "fig.show()\n",
    "\n",
    "-->\n"
   ]
  },
  {
   "cell_type": "markdown",
   "id": "e6003dc7-bcd0-406e-a376-38fb7d037a6d",
   "metadata": {},
   "outputs": [],
   "source": [
    "# Histogram\n"
   ]
  },
  {
   "cell_type": "markdown",
   "id": "869451b1-eb72-4001-aa3c-9358a8f01022",
   "metadata": {},
   "outputs": [],
   "source": [
    "Learn more about histogram [here](https://plotly.com/python/histograms/?utm_medium=Exinfluencer&utm_source=Exinfluencer&utm_content=000026UJ&utm_term=10006555&utm_id=NA-SkillsNetwork-Channel-SkillsNetworkCoursesIBMDeveloperSkillsNetworkDV0101ENSkillsNetwork20297740-2021-01-01)\n",
    "\n",
    "#### Idea: Get distribution of arrival delay\n"
   ]
  },
  {
   "cell_type": "code",
   "id": "cccf64a2-15e3-4b8e-b5ee-df4a250da587",
   "metadata": {},
   "outputs": [],
   "source": [
    "# Set missing values to 0\ndata['ArrDelay'] = data['ArrDelay'].fillna(0)"
   ]
  },
  {
   "cell_type": "markdown",
   "id": "318890d9-ccf7-4702-ab7a-5c17d15a1657",
   "metadata": {},
   "outputs": [],
   "source": [
    "**To do**\n",
    "\n",
    "*   Use px.histogram and pass the dataset.\n",
    "*   Pass `ArrDelay` to x parameter.\n"
   ]
  },
  {
   "cell_type": "code",
   "id": "251e988b-bc43-42ce-9403-925a40669e77",
   "metadata": {},
   "outputs": [],
   "source": [
    "# Create histogram here\n"
   ]
  },
  {
   "cell_type": "markdown",
   "id": "8590385a-f2c0-4029-b627-07b488f95e7c",
   "metadata": {},
   "outputs": [],
   "source": [
    "Double-click **here** for the solution.\n",
    "\n",
    "<!-- The answer is below:\n",
    "\n",
    "fig = px.histogram(data, x=\"ArrDelay\")\n",
    "fig.show()\n",
    "\n",
    "-->\n"
   ]
  },
  {
   "cell_type": "markdown",
   "id": "d9fdad5d-ad95-4050-9497-20ecfe161425",
   "metadata": {},
   "outputs": [],
   "source": [
    "# Pie Chart\n"
   ]
  },
  {
   "cell_type": "markdown",
   "id": "04a56440-f6e4-49de-9b8f-179ee2baa605",
   "metadata": {},
   "outputs": [],
   "source": [
    "Learn more about pie chart [here](https://plotly.com/python/pie-charts/?utm_medium=Exinfluencer&utm_source=Exinfluencer&utm_content=000026UJ&utm_term=10006555&utm_id=NA-SkillsNetwork-Channel-SkillsNetworkCoursesIBMDeveloperSkillsNetworkDV0101ENSkillsNetwork20297740-2021-01-01)\n",
    "\n",
    "#### Idea: Proportion of distance group by month (month indicated by numbers)\n"
   ]
  },
  {
   "cell_type": "code",
   "id": "8f574d40-4af3-44b1-a464-00a2e05d2bd8",
   "metadata": {},
   "outputs": [],
   "source": [
    "# Use px.pie function to create the chart. Input dataset. \n# Values parameter will set values associated to the sector. 'Month' feature is passed to it.\n# labels for the sector are passed to the `names` parameter.\nfig = px.pie(data, values='Month', names='DistanceGroup', title='Distance group proportion by month')\nfig.show()"
   ]
  },
  {
   "cell_type": "markdown",
   "id": "8b3a95e7-42aa-4770-b47e-97e853ff1efd",
   "metadata": {},
   "outputs": [],
   "source": [
    "# Sunburst Charts\n"
   ]
  },
  {
   "cell_type": "markdown",
   "id": "1b361a27-a225-4cb3-a927-83d29467ee87",
   "metadata": {},
   "outputs": [],
   "source": [
    "Learn more about sunburst chart [here](https://plotly.com/python/sunburst-charts/?utm_medium=Exinfluencer&utm_source=Exinfluencer&utm_content=000026UJ&utm_term=10006555&utm_id=NA-SkillsNetwork-Channel-SkillsNetworkCoursesIBMDeveloperSkillsNetworkDV0101ENSkillsNetwork20297740-2021-01-01)\n",
    "\n",
    "#### Idea: Hierarchical view in othe order of month and destination state holding value of number of flights\n"
   ]
  },
  {
   "cell_type": "markdown",
   "id": "ccac5855-5db7-4584-add9-294d0ee8ac55",
   "metadata": {},
   "outputs": [],
   "source": [
    "**To do**\n",
    "\n",
    "*   Create sunburst chart using `px.sunburst`.\n",
    "*   Define hierarchy of sectors from root to leaves in `path` parameter. Here, we go from `Month` to `DestStateName` feature.\n",
    "*   Set sector values in `values` paramter. Here, we can pass in `Flights` feature.\n",
    "*   Show the figure.\n"
   ]
  },
  {
   "cell_type": "code",
   "id": "55ed3fc8-8821-404f-b3fd-ac2a3889749c",
   "metadata": {},
   "outputs": [],
   "source": [
    "# Create sunburst chart here"
   ]
  },
  {
   "cell_type": "markdown",
   "id": "f83c1b5c-e801-429a-8748-1e3db44826a2",
   "metadata": {},
   "outputs": [],
   "source": [
    "Double-click **here** for the solution.\n",
    "\n",
    "<!-- The answer is below:\n",
    "    \n",
    "fig = px.sunburst(data, path=['Month', 'DestStateName'], values='Flights')\n",
    "fig.show()\n",
    "\n",
    "-->\n"
   ]
  },
  {
   "cell_type": "markdown",
   "id": "947df3f8-468d-4766-a403-a06ce869653e",
   "metadata": {},
   "outputs": [],
   "source": [
    "## Summary\n",
    "\n",
    "Congratulations for completing your first lab.\n",
    "\n",
    "In this lab, you have learnt how to use `plotly.graph_objects` and `plotly.express` for creating plots and charts.\n"
   ]
  },
  {
   "cell_type": "markdown",
   "id": "97c3a9d5-5caf-4ad9-98a8-6e411d0ca055",
   "metadata": {},
   "outputs": [],
   "source": [
    "## Author\n",
    "\n",
    "[Saishruthi Swaminathan](https://www.linkedin.com/in/saishruthi-swaminathan/?utm_medium=Exinfluencer&utm_source=Exinfluencer&utm_content=000026UJ&utm_term=10006555&utm_id=NA-SkillsNetwork-Channel-SkillsNetworkCoursesIBMDeveloperSkillsNetworkDV0101ENSkillsNetwork20297740-2021-01-01)\n"
   ]
  },
  {
   "cell_type": "markdown",
   "id": "e38465cb-0d15-4f1f-8d0a-8ee1cef644d4",
   "metadata": {},
   "outputs": [],
   "source": [
    "## Changelog\n",
    "\n",
    "| Date       | Version | Changed by | Change Description                   |\n",
    "| ---------- | ------- | ---------- | ------------------------------------ |\n",
    "| 12-18-2020 | 1.0     | Nayef      | Added dataset link and upload to Git |\n"
   ]
  },
  {
   "cell_type": "markdown",
   "id": "d13a519c-d3c4-4db9-945a-5566f43606a8",
   "metadata": {},
   "outputs": [],
   "source": [
    "## <h3 align=\"center\"> © IBM Corporation 2020. All rights reserved. <h3/>\n"
   ]
  }
 ],
 "metadata": {
  "kernelspec": {
   "display_name": "Pyolite",
   "language": "python",
   "name": "python"
  },
  "language_info": {
   "codemirror_mode": {
    "name": "python",
    "version": 3
   },
   "file_extension": ".py",
   "mimetype": "text/x-python",
   "name": "python",
   "nbconvert_exporter": "python",
   "pygments_lexer": "ipython3",
   "version": "3.8"
  }
 },
 "nbformat": 4,
 "nbformat_minor": 4
}
